{
 "cells": [
  {
   "cell_type": "markdown",
   "id": "c227371d",
   "metadata": {},
   "source": [
    "[CNN기반 CiFa10 이미지 분류 모델]  \n",
    "\n",
    "- 데이터셋 : Pytorch 내장 데이터셋 활용  \n",
    "- 학습종류 : 지도학습 + 다중분류"
   ]
  },
  {
   "cell_type": "markdown",
   "id": "80f4832e",
   "metadata": {},
   "source": [
    "[1] 모듈 로딩 및 데이터 준비 <hr>"
   ]
  },
  {
   "cell_type": "code",
   "execution_count": 21,
   "id": "b1cfc904",
   "metadata": {},
   "outputs": [],
   "source": [
    "## 모듈 로딩\n",
    "import torch\t\t\t\t\t\t\t\t## 텐서 및 기본 함수들 관련\n",
    "import torch.nn as nn\t\t\t\t\t\t## 인공신경망 관련\n",
    "import torch.nn.functional as F      \t\t## 인공신경망 함수들 관련\n",
    "\n",
    "import torchvision.transforms as transforms\t## 이미지 전처리 변형 관련\n",
    "from torchvision.datasets import CIFAR10\t\t## 내장 데이터셋\n",
    "from torch.utils.data import DataLoader\t\t## 학습 위한 데이터 로딩 관련\n",
    "\n",
    "import numpy as np\t\t\t\t\t\t\t## 실제 데이터 저장 형식관련 모듈\n",
    "import matplotlib.pyplot as plt\t\t\t\t## 이미지 시각화 관련 모듈"
   ]
  },
  {
   "cell_type": "markdown",
   "id": "4d852378",
   "metadata": {},
   "source": [
    "[2] 데이터 준비 - Pytorch 내장 데이터셋 로딩 <hr>"
   ]
  },
  {
   "cell_type": "code",
   "execution_count": 22,
   "id": "faafff64",
   "metadata": {},
   "outputs": [
    {
     "name": "stdout",
     "output_type": "stream",
     "text": [
      "../data/image/ : 존재합니다. \n"
     ]
    }
   ],
   "source": [
    "## 준비 => 전처리용 trnsforms 인스턴스, 저장 위치\n",
    "ROOT = '../data/image/'\n",
    "\n",
    "import os\n",
    "\n",
    "if not os.path.exists(ROOT):\n",
    "\tos.makedirs(ROOT)\n",
    "else:\n",
    "\tprint(f'{ROOT} : 존재합니다. ')"
   ]
  },
  {
   "cell_type": "markdown",
   "id": "1f22ca1e",
   "metadata": {},
   "source": [
    "데이터로더 생성"
   ]
  },
  {
   "cell_type": "code",
   "execution_count": 23,
   "id": "eeafe7e3",
   "metadata": {},
   "outputs": [],
   "source": [
    "preprocessing = transforms.Compose([\n",
    "\ttransforms.ToTensor(),\n",
    "\ttransforms.Resize(30)\n",
    "])"
   ]
  },
  {
   "cell_type": "code",
   "execution_count": 24,
   "id": "b51219e5",
   "metadata": {},
   "outputs": [
    {
     "ename": "SyntaxError",
     "evalue": "invalid syntax (2705532603.py, line 4)",
     "output_type": "error",
     "traceback": [
      "\u001b[1;36m  Cell \u001b[1;32mIn[24], line 4\u001b[1;36m\u001b[0m\n\u001b[1;33m    train=True,\u001b[0m\n\u001b[1;37m    ^\u001b[0m\n\u001b[1;31mSyntaxError\u001b[0m\u001b[1;31m:\u001b[0m invalid syntax\n"
     ]
    }
   ],
   "source": [
    "# 학습용 데이터셋\n",
    "train_dataset = CIFAR10(\n",
    "    root=ROOT\n",
    "    train=True,\n",
    "    transform=preprocessing,\n",
    "    download=True\n",
    ")\n",
    "\n",
    "# 테스트용 데이터셋\n",
    "test_dataset = CIFAR10(\n",
    "    root=ROOT,\n",
    "    train=False,\n",
    "    transform=preprocessing,\n",
    "    download=True\n",
    ")"
   ]
  },
  {
   "cell_type": "code",
   "execution_count": null,
   "id": "4cb4d800",
   "metadata": {},
   "outputs": [],
   "source": [
    "train_loader = DataLoader(train_dataset, batch_size=64, shuffle=True)\n",
    "test_loader = DataLoader(test_dataset, batch_size=64, shuffle=False)"
   ]
  },
  {
   "cell_type": "code",
   "execution_count": null,
   "id": "9cbb964a",
   "metadata": {},
   "outputs": [],
   "source": [
    "class CIFAR10(nn.Module):\n",
    "\tdef __init__(self):\n",
    "\t\tsuper().__init__()\n",
    "\t\tself.con_layer1 = nn.Conv2d(1, 1, 3, padding=1)\n",
    "\t\tself.pool_layer1 = nn.MaxPool2d(2)\n",
    "\t\tself.con_layer2 = nn.Conv2d(1, 1, 3)\n",
    "\t\tself.pool_layer2 = nn.MaxPool2d(2)\n",
    "\t\tself.flatten_layer = nn.Flatten()\n",
    "\t\tself.fc_layer = nn.Linear(1*6*6, 30)\n",
    "\t\tself.out_layer = nn.Linear(30, 10)\n",
    "\n",
    "\tdef forward(self, data):\n",
    "\t\tprint(f'data shape : {data.shape}')\n",
    "\t\t\n",
    "\t\tout = F.relu(self.con_layer1(data))\n",
    "\t\tprint(f'1. out shape : {out.shape}')\n",
    "\t\tout = self.pool_layer1(out)\n",
    "\t\tprint(f'1-1. out shape : {out.shape}')\n",
    "\n",
    "\t\tout = F.relu(self.con_layer2(out))\n",
    "\t\tprint(f'2. out shape : {out.shape}')\n",
    "\t\tout = self.pool_layer2(out)\n",
    "\t\tprint(f'2-1. out shape : {out.shape}')\n",
    "\n",
    "\t\tout = self.flatten_layer(out)\n",
    "\t\tprint(f'3. out shape : {out.shape}')\n",
    "\n",
    "\t\tout = F.relu(self.fc_layer(out))\n",
    "\t\tout = self.out_layer(out)\n",
    "\t\tprint(f'out shape : {out.shape}')\n",
    "\t\treturn out"
   ]
  },
  {
   "cell_type": "code",
   "execution_count": null,
   "id": "c9f99dfa",
   "metadata": {},
   "outputs": [
    {
     "ename": "NameError",
     "evalue": "name 'summary' is not defined",
     "output_type": "error",
     "traceback": [
      "\u001b[1;31m---------------------------------------------------------------------------\u001b[0m",
      "\u001b[1;31mNameError\u001b[0m                                 Traceback (most recent call last)",
      "Cell \u001b[1;32mIn[13], line 3\u001b[0m\n\u001b[0;32m      1\u001b[0m \u001b[38;5;66;03m## 모델 설계 및 정의 체크 \u001b[39;00m\n\u001b[0;32m      2\u001b[0m m1 \u001b[38;5;241m=\u001b[39m CIFAR10()\n\u001b[1;32m----> 3\u001b[0m \u001b[43msummary\u001b[49m(m1, input_size\u001b[38;5;241m=\u001b[39m(\u001b[38;5;241m1\u001b[39m, \u001b[38;5;241m28\u001b[39m, \u001b[38;5;241m28\u001b[39m))\n",
      "\u001b[1;31mNameError\u001b[0m: name 'summary' is not defined"
     ]
    }
   ],
   "source": [
    "## 모델 설계 및 정의 체크 \n",
    "m1 = CIFAR10()\n",
    "summary(m1, input_size=(1, 28, 28))"
   ]
  }
 ],
 "metadata": {
  "kernelspec": {
   "display_name": "DL_TORCH",
   "language": "python",
   "name": "python3"
  },
  "language_info": {
   "codemirror_mode": {
    "name": "ipython",
    "version": 3
   },
   "file_extension": ".py",
   "mimetype": "text/x-python",
   "name": "python",
   "nbconvert_exporter": "python",
   "pygments_lexer": "ipython3",
   "version": "3.9.21"
  }
 },
 "nbformat": 4,
 "nbformat_minor": 5
}

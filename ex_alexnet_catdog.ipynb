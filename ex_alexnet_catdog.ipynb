{
 "cells": [
  {
   "cell_type": "markdown",
   "id": "5d115daa",
   "metadata": {},
   "source": [
    "#### [사전 학습 - AlexNet Model 기반 Cat & Dog 분류]"
   ]
  },
  {
   "cell_type": "markdown",
   "id": "54666072",
   "metadata": {},
   "source": [
    "[1] 모듈 로딩 및 데이터 준비 <hr>"
   ]
  },
  {
   "cell_type": "code",
   "execution_count": 3,
   "id": "792490ef",
   "metadata": {},
   "outputs": [],
   "source": [
    "## 모듈 로딩 및 데이터 준비\n",
    "import torch\n",
    "import torch.nn as nn\n",
    "import torch.nn.functional as F\n",
    "\n",
    "import torchvision.transforms as transforms\t\t\t\t\t## 이미지 전처리 변형 관련\n",
    "from torchvision.models import alexnet, AlexNet_Weights\t\t## 사전학습 내장 모델 클래스 관련\n",
    "from torchinfo import summary\t\t\t\t\t\t\t\t## 모델 정보 확인용\n",
    "\n",
    "from torchvision.datasets import ImageFolder\t\t\t\t## 커스텀 이키지 데이터셋 관련 모듈\n",
    "from torch.utils.data import DataLoader"
   ]
  },
  {
   "cell_type": "code",
   "execution_count": 4,
   "id": "6371e981",
   "metadata": {},
   "outputs": [],
   "source": [
    "## 데이터 준비\n",
    "DATA_DIR = '../data/image/animals/'\n",
    "\n",
    "## 이미지 전처리 준비\n",
    "PREPROCESSING = AlexNet_Weights.DEFAULT.transforms()\n",
    "\n",
    "## 이미지 클래스 변환\n",
    "IDX_TO_CLASS = dict(zip( range(1000), AlexNet_Weights.DEFAULT.meta['categories']))"
   ]
  },
  {
   "cell_type": "markdown",
   "id": "bacf84fd",
   "metadata": {},
   "source": [
    "[2] 이미지 데이터 로딩 <hr>"
   ]
  },
  {
   "cell_type": "code",
   "execution_count": 5,
   "id": "72eb3be8",
   "metadata": {},
   "outputs": [
    {
     "name": "stdout",
     "output_type": "stream",
     "text": [
      "IDX_TO_CLASS => {0: 'cat', 1: 'dog'}\n"
     ]
    }
   ],
   "source": [
    "## - 이미지 데이터 로딩\n",
    "imgDS = ImageFolder(root=DATA_DIR,\n",
    "\t\t\t\t\ttransform=PREPROCESSING)\n",
    "\n",
    "## - 클래스 변환 데이터\n",
    "IDX_TO_CLASS = {v:k for k, v in imgDS.class_to_idx.items()}\n",
    "print(f'IDX_TO_CLASS => {IDX_TO_CLASS}')"
   ]
  },
  {
   "cell_type": "code",
   "execution_count": 8,
   "id": "28c4c475",
   "metadata": {},
   "outputs": [
    {
     "name": "stdout",
     "output_type": "stream",
     "text": [
      "imgDataset 개수 : 124개\n",
      "imgDataset 분류 : {'cat': 0, 'dog': 1}\n",
      "- cat \t   개수 : 62개, 50.0\n",
      "- dog\t   개수 : 62개, 50.0\n"
     ]
    }
   ],
   "source": [
    "## - 데이터 확인\n",
    "print(f'imgDataset 개수 : {len(imgDS.targets)}개')\n",
    "print(f'imgDataset 분류 : {imgDS.class_to_idx}')\n",
    "print(f'- cat \t   개수 : {imgDS.targets.count(0)}개, {(imgDS.targets.count(0)/len(imgDS.targets))*100}')\n",
    "print(f'- dog\t   개수 : {imgDS.targets.count(1)}개, {(imgDS.targets.count(1)/len(imgDS.targets))*100}')"
   ]
  },
  {
   "cell_type": "code",
   "execution_count": 13,
   "id": "49f8fbc7",
   "metadata": {},
   "outputs": [
    {
     "name": "stdout",
     "output_type": "stream",
     "text": [
      "img => torch.Size([3, 224, 224]), label => 0\n"
     ]
    }
   ],
   "source": [
    "## 데이터 확인\n",
    "img, label = imgDS[0]\n",
    "print(f'img => {img.shape}, label => {label}')"
   ]
  },
  {
   "cell_type": "markdown",
   "id": "142fac05",
   "metadata": {},
   "source": [
    "[3] 모댈 클래스 정의 및 선언 <hr>"
   ]
  },
  {
   "cell_type": "code",
   "execution_count": null,
   "id": "97e46cec",
   "metadata": {},
   "outputs": [],
   "source": [
    "## 모델 구성 : 사전 학습된 AlexNet의 특징추출 부분 + 커스텀 분류기 구분\n",
    "##\t\t\t - 특징추출 부분 : 최적의 W,b 설정 => 학습 X\n",
    "##\t\t\t - 분류기   부분 : 커스터마이징\t   => 학습 필요"
   ]
  },
  {
   "cell_type": "code",
   "execution_count": 14,
   "id": "68161701",
   "metadata": {},
   "outputs": [],
   "source": [
    "model = alexnet(weights=AlexNet_Weights.DEFAULT)"
   ]
  },
  {
   "cell_type": "code",
   "execution_count": 21,
   "id": "09ed1ea2",
   "metadata": {},
   "outputs": [
    {
     "name": "stdout",
     "output_type": "stream",
     "text": [
      "features.0.weight torch.Size([64, 3, 11, 11]) False\n",
      "features.0.bias torch.Size([64]) False\n",
      "features.3.weight torch.Size([192, 64, 5, 5]) False\n",
      "features.3.bias torch.Size([192]) False\n",
      "features.6.weight torch.Size([384, 192, 3, 3]) False\n",
      "features.6.bias torch.Size([384]) False\n",
      "features.8.weight torch.Size([256, 384, 3, 3]) False\n",
      "features.8.bias torch.Size([256]) False\n",
      "features.10.weight torch.Size([256, 256, 3, 3]) False\n",
      "features.10.bias torch.Size([256]) False\n",
      "classifier.weight torch.Size([2, 9216]) True\n",
      "classifier.bias torch.Size([2]) True\n"
     ]
    }
   ],
   "source": [
    "## 모델 층별 W, b 파라미터 업데이트 설정\n",
    "## ==> model.features 부분 : requires_grad = False\n",
    "## ==> model.classifier 부분 : 2진 분류기로 변경\n",
    "for name, param in model.named_parameters():\n",
    "\tif name.startswith('features'):\n",
    "\t\tparam.requires_grad = False\n",
    "\n",
    "## 확인\n",
    "for name, param in model.named_parameters():\n",
    "\tprint(name, param.shape, param.requires_grad)"
   ]
  },
  {
   "cell_type": "code",
   "execution_count": null,
   "id": "d9e537b3",
   "metadata": {},
   "outputs": [],
   "source": [
    "## (2) 분류기 부분 변경 => 입력 (85, 9216) =====> 출력 ( ? , 2)\n",
    "model.classifier = nn.Linear(9216, 2)"
   ]
  },
  {
   "cell_type": "code",
   "execution_count": 18,
   "id": "6ec1a6c6",
   "metadata": {},
   "outputs": [
    {
     "data": {
      "text/plain": [
       "==========================================================================================\n",
       "Layer (type:depth-idx)                   Output Shape              Param #\n",
       "==========================================================================================\n",
       "AlexNet                                  [1, 2]                    --\n",
       "├─Sequential: 1-1                        [1, 256, 6, 6]            --\n",
       "│    └─Conv2d: 2-1                       [1, 64, 55, 55]           23,296\n",
       "│    └─ReLU: 2-2                         [1, 64, 55, 55]           --\n",
       "│    └─MaxPool2d: 2-3                    [1, 64, 27, 27]           --\n",
       "│    └─Conv2d: 2-4                       [1, 192, 27, 27]          307,392\n",
       "│    └─ReLU: 2-5                         [1, 192, 27, 27]          --\n",
       "│    └─MaxPool2d: 2-6                    [1, 192, 13, 13]          --\n",
       "│    └─Conv2d: 2-7                       [1, 384, 13, 13]          663,936\n",
       "│    └─ReLU: 2-8                         [1, 384, 13, 13]          --\n",
       "│    └─Conv2d: 2-9                       [1, 256, 13, 13]          884,992\n",
       "│    └─ReLU: 2-10                        [1, 256, 13, 13]          --\n",
       "│    └─Conv2d: 2-11                      [1, 256, 13, 13]          590,080\n",
       "│    └─ReLU: 2-12                        [1, 256, 13, 13]          --\n",
       "│    └─MaxPool2d: 2-13                   [1, 256, 6, 6]            --\n",
       "├─AdaptiveAvgPool2d: 1-2                 [1, 256, 6, 6]            --\n",
       "├─Linear: 1-3                            [1, 2]                    18,434\n",
       "==========================================================================================\n",
       "Total params: 2,488,130\n",
       "Trainable params: 2,488,130\n",
       "Non-trainable params: 0\n",
       "Total mult-adds (M): 656.07\n",
       "==========================================================================================\n",
       "Input size (MB): 0.60\n",
       "Forward/backward pass size (MB): 3.88\n",
       "Params size (MB): 9.95\n",
       "Estimated Total Size (MB): 14.43\n",
       "=========================================================================================="
      ]
     },
     "execution_count": 18,
     "metadata": {},
     "output_type": "execute_result"
    }
   ],
   "source": [
    "summary(model, input_size=(1, 3, 224, 224))"
   ]
  },
  {
   "cell_type": "markdown",
   "id": "5086facb",
   "metadata": {},
   "source": [
    "[4] 학습 준비 <hr>"
   ]
  },
  {
   "cell_type": "code",
   "execution_count": 22,
   "id": "31078d98",
   "metadata": {},
   "outputs": [],
   "source": [
    "## 학습 관련 설정 값\n",
    "EPOCHS = 10\n",
    "BATCH_SIZE = 32\n",
    "LEARNING_RATE = 0.001\n",
    "DEVICE = torch.device('cuda' if torch.cuda.is_available() else 'cpu')"
   ]
  },
  {
   "cell_type": "code",
   "execution_count": 23,
   "id": "316489fa",
   "metadata": {},
   "outputs": [],
   "source": [
    "## 학습 관련 인스턴스들 생성\n",
    "t_loader = DataLoader(imgDS, batch_size=BATCH_SIZE, shuffle=True)\n",
    "\n",
    "## 손실 함ㅅ와 옵티마이저\n",
    "criterion = nn.CrossEntropyLoss()\n",
    "optimizer = torch.optim.Adam(model.parameters(), lr=LEARNING_RATE)\n",
    "\n",
    "## 모델 장치 할당\n",
    "model = model.to(DEVICE)"
   ]
  },
  {
   "cell_type": "code",
   "execution_count": 24,
   "id": "c5576880",
   "metadata": {},
   "outputs": [],
   "source": [
    "## 학습 관련 함수들\n",
    "def train_one_epoch(model, loader, criterion, optimizer, device):\n",
    "    model.train()\n",
    "    total_loss = 0\n",
    "    correct = 0\n",
    "    total = 0\n",
    "\n",
    "    for imgs, labels in loader:\n",
    "        imgs, labels = imgs.to(device), labels.to(device)\n",
    "        optimizer.zero_grad()\n",
    "        outputs = model(imgs)\n",
    "        loss = criterion(outputs, labels)\n",
    "        loss.backward()\n",
    "        optimizer.step()\n",
    "\n",
    "        total_loss += loss.item()\n",
    "        _, predicted = torch.max(outputs, 1)\n",
    "        correct += (predicted == labels).sum().item()\n",
    "        total += labels.size(0)\n",
    "\n",
    "    acc = 100 * correct / total\n",
    "    return total_loss, acc"
   ]
  },
  {
   "cell_type": "markdown",
   "id": "1edd2b12",
   "metadata": {},
   "source": [
    "[5] 학습 <hr>"
   ]
  },
  {
   "cell_type": "code",
   "execution_count": 26,
   "id": "0d92de0e",
   "metadata": {},
   "outputs": [
    {
     "name": "stdout",
     "output_type": "stream",
     "text": [
      "[1/10] Loss: 8.9251, Accuracy: 59.68%\n",
      "[2/10] Loss: 1.7563, Accuracy: 86.29%\n",
      "[3/10] Loss: 0.0170, Accuracy: 100.00%\n",
      "[4/10] Loss: 0.2751, Accuracy: 98.39%\n",
      "[5/10] Loss: 0.0194, Accuracy: 100.00%\n",
      "[6/10] Loss: 0.0009, Accuracy: 100.00%\n",
      "[7/10] Loss: 0.0002, Accuracy: 100.00%\n",
      "[8/10] Loss: 0.0001, Accuracy: 100.00%\n",
      "[9/10] Loss: 0.0000, Accuracy: 100.00%\n",
      "[10/10] Loss: 0.0000, Accuracy: 100.00%\n"
     ]
    }
   ],
   "source": [
    "for epoch in range(EPOCHS):\n",
    "    loss, acc = train_one_epoch(model, t_loader, criterion, optimizer, DEVICE)\n",
    "    print(f\"[{epoch+1}/{EPOCHS}] Loss: {loss:.4f}, Accuracy: {acc:.2f}%\")"
   ]
  },
  {
   "cell_type": "code",
   "execution_count": null,
   "id": "0ad090b2",
   "metadata": {},
   "outputs": [],
   "source": []
  }
 ],
 "metadata": {
  "kernelspec": {
   "display_name": "DL_TORCH",
   "language": "python",
   "name": "python3"
  },
  "language_info": {
   "codemirror_mode": {
    "name": "ipython",
    "version": 3
   },
   "file_extension": ".py",
   "mimetype": "text/x-python",
   "name": "python",
   "nbconvert_exporter": "python",
   "pygments_lexer": "ipython3",
   "version": "3.9.21"
  }
 },
 "nbformat": 4,
 "nbformat_minor": 5
}
